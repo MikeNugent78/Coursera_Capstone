{
    "cells": [
        {
            "metadata": {
                "collapsed": true
            },
            "cell_type": "markdown",
            "source": "### Step 1 - install/import files as needed"
        },
        {
            "metadata": {},
            "cell_type": "code",
            "source": "!pip install pgeocode",
            "execution_count": 1,
            "outputs": [
                {
                    "output_type": "stream",
                    "text": "Requirement already satisfied: pgeocode in /opt/conda/envs/Python36/lib/python3.6/site-packages (0.2.1)\nRequirement already satisfied: pandas in /opt/conda/envs/Python36/lib/python3.6/site-packages (from pgeocode) (0.24.1)\nRequirement already satisfied: requests in /opt/conda/envs/Python36/lib/python3.6/site-packages (from pgeocode) (2.21.0)\nRequirement already satisfied: numpy in /opt/conda/envs/Python36/lib/python3.6/site-packages (from pgeocode) (1.15.4)\nRequirement already satisfied: pytz>=2011k in /opt/conda/envs/Python36/lib/python3.6/site-packages (from pandas->pgeocode) (2018.9)\nRequirement already satisfied: python-dateutil>=2.5.0 in /opt/conda/envs/Python36/lib/python3.6/site-packages (from pandas->pgeocode) (2.7.5)\nRequirement already satisfied: idna<2.9,>=2.5 in /opt/conda/envs/Python36/lib/python3.6/site-packages (from requests->pgeocode) (2.8)\nRequirement already satisfied: chardet<3.1.0,>=3.0.2 in /opt/conda/envs/Python36/lib/python3.6/site-packages (from requests->pgeocode) (3.0.4)\nRequirement already satisfied: urllib3<1.25,>=1.21.1 in /opt/conda/envs/Python36/lib/python3.6/site-packages (from requests->pgeocode) (1.24.1)\nRequirement already satisfied: certifi>=2017.4.17 in /opt/conda/envs/Python36/lib/python3.6/site-packages (from requests->pgeocode) (2020.6.20)\nRequirement already satisfied: six>=1.5 in /opt/conda/envs/Python36/lib/python3.6/site-packages (from python-dateutil>=2.5.0->pandas->pgeocode) (1.12.0)\n",
                    "name": "stdout"
                }
            ]
        },
        {
            "metadata": {},
            "cell_type": "code",
            "source": "import pandas as pd\nimport pgeocode",
            "execution_count": 2,
            "outputs": []
        },
        {
            "metadata": {
                "collapsed": true
            },
            "cell_type": "markdown",
            "source": "### Step 2 - Import pandas data set from previous book"
        },
        {
            "metadata": {},
            "cell_type": "code",
            "source": "Wiki_postal_df = pd.read_csv(r'C:\\Users\\MikeNugent78\\Desktop\\TorontoPostalCodes.csv',index_col=0)\nWiki_postal_df.head(5)",
            "execution_count": 3,
            "outputs": [
                {
                    "output_type": "execute_result",
                    "execution_count": 3,
                    "data": {
                        "text/plain": "  Postal Code           Borough                                 Neighborhood\n0         M3A        North York                                    Parkwoods\n1         M4A        North York                             Victoria Village\n2         M5A  Downtown Toronto                    Regent Park, Harbourfront\n3         M6A        North York             Lawrence Manor, Lawrence Heights\n4         M7A  Downtown Toronto  Queen's Park, Ontario Provincial Government",
                        "text/html": "<div>\n<style scoped>\n    .dataframe tbody tr th:only-of-type {\n        vertical-align: middle;\n    }\n\n    .dataframe tbody tr th {\n        vertical-align: top;\n    }\n\n    .dataframe thead th {\n        text-align: right;\n    }\n</style>\n<table border=\"1\" class=\"dataframe\">\n  <thead>\n    <tr style=\"text-align: right;\">\n      <th></th>\n      <th>Postal Code</th>\n      <th>Borough</th>\n      <th>Neighborhood</th>\n    </tr>\n  </thead>\n  <tbody>\n    <tr>\n      <th>0</th>\n      <td>M3A</td>\n      <td>North York</td>\n      <td>Parkwoods</td>\n    </tr>\n    <tr>\n      <th>1</th>\n      <td>M4A</td>\n      <td>North York</td>\n      <td>Victoria Village</td>\n    </tr>\n    <tr>\n      <th>2</th>\n      <td>M5A</td>\n      <td>Downtown Toronto</td>\n      <td>Regent Park, Harbourfront</td>\n    </tr>\n    <tr>\n      <th>3</th>\n      <td>M6A</td>\n      <td>North York</td>\n      <td>Lawrence Manor, Lawrence Heights</td>\n    </tr>\n    <tr>\n      <th>4</th>\n      <td>M7A</td>\n      <td>Downtown Toronto</td>\n      <td>Queen's Park, Ontario Provincial Government</td>\n    </tr>\n  </tbody>\n</table>\n</div>"
                    },
                    "metadata": {}
                }
            ]
        },
        {
            "metadata": {
                "collapsed": true
            },
            "cell_type": "markdown",
            "source": "### Step 3 - Get longitude and latitude data for each row\n#### (a)  Initialize data stores\n#### (b)  Set up Nominatim file for Canada\n#### (c)  Iterate through the rows\n#### (d)  Collect latitude information and append\n#### (e)  Collect longitude information and append"
        },
        {
            "metadata": {},
            "cell_type": "code",
            "source": "## (a)\nWiki_longitudes = []\nWiki_latitudes = []\n\n## (b)\nnomi = pgeocode.Nominatim('ca')\n\n##(c)\nfor index, row in Wiki_postal_df.iterrows():\n\n## (d)\n    Wiki_latitude = nomi.query_postal_code(Wiki_postal_df[\"Postal Code\"][index]).latitude \n    Wiki_latitudes.append(Wiki_latitude)   \n    \n## (e)    \n    Wiki_longitude = nomi.query_postal_code(Wiki_postal_df[\"Postal Code\"][index]).longitude\n    Wiki_longitudes.append(Wiki_longitude)\n    \n##Wiki_latitudes               ##DEBUGGING - uncomment to see Latitudes",
            "execution_count": 4,
            "outputs": []
        },
        {
            "metadata": {
                "collapsed": true
            },
            "cell_type": "markdown",
            "source": "### Step 4 - insert latitude and longitude columns into dataset"
        },
        {
            "metadata": {},
            "cell_type": "code",
            "source": "Wiki_postal_df.insert(3,\"Latitude\",Wiki_latitudes)\nWiki_postal_df.insert(4,\"Longitude\",Wiki_longitudes)",
            "execution_count": 5,
            "outputs": []
        },
        {
            "metadata": {
                "collapsed": true
            },
            "cell_type": "markdown",
            "source": "### Step 5 - write data set to csv for next step"
        },
        {
            "metadata": {},
            "cell_type": "code",
            "source": "Wiki_postal_df.to_csv(r'C:\\Users\\MikeNugent78\\Desktop\\TorontoPostallatlong.csv')",
            "execution_count": null,
            "outputs": []
        },
        {
            "metadata": {
                "collapsed": true
            },
            "cell_type": "markdown",
            "source": "### Step 6 - List data set"
        },
        {
            "metadata": {},
            "cell_type": "code",
            "source": "Wiki_postal_df",
            "execution_count": null,
            "outputs": []
        },
        {
            "metadata": {},
            "cell_type": "code",
            "source": "",
            "execution_count": null,
            "outputs": []
        }
    ],
    "metadata": {
        "kernelspec": {
            "name": "python3",
            "display_name": "Python 3.6",
            "language": "python"
        },
        "language_info": {
            "name": "python",
            "version": "3.6.9",
            "mimetype": "text/x-python",
            "codemirror_mode": {
                "name": "ipython",
                "version": 3
            },
            "pygments_lexer": "ipython3",
            "nbconvert_exporter": "python",
            "file_extension": ".py"
        }
    },
    "nbformat": 4,
    "nbformat_minor": 1
}