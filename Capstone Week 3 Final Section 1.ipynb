{
    "cells": [
        {
            "cell_type": "markdown",
            "metadata": {
                "collapsed": true
            },
            "source": "### Step 1: Import Libraries and install beautiful soup"
        },
        {
            "cell_type": "code",
            "execution_count": 1,
            "metadata": {},
            "outputs": [],
            "source": "##pip install BeautifulSoup4"
        },
        {
            "cell_type": "code",
            "execution_count": 2,
            "metadata": {},
            "outputs": [],
            "source": "##pip install requests            ##DEBUGGING - may be needed for certain notebooks"
        },
        {
            "cell_type": "code",
            "execution_count": 3,
            "metadata": {},
            "outputs": [],
            "source": "from bs4 import BeautifulSoup\n\nimport pandas as pd                 # library for data analsysis\npd.set_option('display.max_columns', None)\npd.set_option('display.max_rows', None)\n\nimport requests                     # library to handle requests"
        },
        {
            "cell_type": "markdown",
            "metadata": {
                "collapsed": true
            },
            "source": "### Step 2: Get Page Data\n#### (a) Get text from the site\n#### (b) parse with Beautiful Soup "
        },
        {
            "cell_type": "code",
            "execution_count": 4,
            "metadata": {},
            "outputs": [],
            "source": "## (a) Get text from the site\nWiki_text = requests.get('https://en.wikipedia.org/wiki/List_of_postal_codes_of_Canada:_M').text\n\n## (b) parse with Beautiful Soup\nWiki_soup = BeautifulSoup(Wiki_text, 'html.parser')\n\n##print(Wiki_soup.prettify())    ##DEBUGGING CODE - uncomment to see all HTML file"
        },
        {
            "cell_type": "markdown",
            "metadata": {
                "collapsed": true
            },
            "source": "### Step 3: Get the Postal Table\n#### There are several tables on the site and we only want the postal data."
        },
        {
            "cell_type": "code",
            "execution_count": 5,
            "metadata": {},
            "outputs": [],
            "source": "Wiki_postal_soup = Wiki_soup.find('table', class_='wikitable sortable')\n\n##print(Wiki_postal_soup.prettify())      ##DEBUGGING CODE - uncomment to see selected HTML data"
        },
        {
            "cell_type": "markdown",
            "metadata": {
                "collapsed": true
            },
            "source": "### Step 4: Get Column names\n#### (a) Initialize the column name file\n#### (b) Get 'th' records and create column names file\n#### (c) Strip the records to create a file of column names\n#### (d) Display the column names"
        },
        {
            "cell_type": "code",
            "execution_count": 6,
            "metadata": {},
            "outputs": [
                {
                    "data": {
                        "text/plain": "['Postal Code', 'Borough', 'Neighborhood']"
                    },
                    "execution_count": 6,
                    "metadata": {},
                    "output_type": "execute_result"
                }
            ],
            "source": "## (a) Initialize the column name file\nColumn_names = []\n\n## (b) Get 'th' records and create column names file\nHeader_columns = Wiki_postal_soup.findAll('th')  \n\n## (c) Strip the records to create a file of column names\nfor column in Header_columns:   \n    Column_names.append(column.text.strip('\\n'))    \n\n## (d) Display the column names   \nColumn_names"
        },
        {
            "cell_type": "markdown",
            "metadata": {
                "collapsed": true
            },
            "source": "### Step 5: Get the table data\n#### (a) Initialize control variables\n#### (b) Get 'tr' records, but skip the first row because they are headers\n#### (c) Get 'td' records to build the columns\n#### (d) Strip data as needed to remove unwanted characters and append to current row\n#### (e) If the Neighborhood is \"Not Assigned\", set it to the Borough\n#### (f) If the Borough has an assigned value, append rows where Borough has an assigned value"
        },
        {
            "cell_type": "code",
            "execution_count": 7,
            "metadata": {},
            "outputs": [],
            "source": "## (a)  Initialize control variables\nWiki_output_rows = []                   ## Create the output data set\nskip_row_1 = 0                          ## Counter to skip the header row\n\n## (b) Get 'tr' records, but skip the first row because they are headers\nfor table_row in Wiki_postal_soup.findAll('tr'):\n    if skip_row_1 == 0:                 \n        skip_row_1 += 1\n        continue\n\n## (c) Get 'td' records to build the columns\n    columns = table_row.findAll('td')                 \n\n## (d) Strip data as needed to remove unwanted characters and append to current row\n    Wiki_output_row = []                              \n    for column in columns:\n        Wiki_output_row.append(column.text.strip('\\n'))    \n\n## (e) If the Neighborhood is \"Not Assigned\", set it to the Borough\n    if Wiki_output_row[2] == \"Not assigned\":          \n        Wiki_output_row[2] = Wiki_output_row [1]      \n        \n## (f) If the Borough has an assigned value, append rows where Borough has an assigned value\n    if Wiki_output_row[1] != \"Not assigned\":          \n        Wiki_output_rows.append(Wiki_output_row)      \n\n##Wiki_output_rows       ## DEBUGGING CODE uncomment to show rows"
        },
        {
            "cell_type": "markdown",
            "metadata": {
                "collapsed": true
            },
            "source": "### Step 6 - Convert to a dataframe and display\n#### (a) Take the column delimited results and convert to a data frame\n#### (b) Use the column names from the 'th' data\n#### (c) Display the data head"
        },
        {
            "cell_type": "code",
            "execution_count": 8,
            "metadata": {},
            "outputs": [
                {
                    "data": {
                        "text/html": "<div>\n<style scoped>\n    .dataframe tbody tr th:only-of-type {\n        vertical-align: middle;\n    }\n\n    .dataframe tbody tr th {\n        vertical-align: top;\n    }\n\n    .dataframe thead th {\n        text-align: right;\n    }\n</style>\n<table border=\"1\" class=\"dataframe\">\n  <thead>\n    <tr style=\"text-align: right;\">\n      <th></th>\n      <th>Postal Code</th>\n      <th>Borough</th>\n      <th>Neighborhood</th>\n    </tr>\n  </thead>\n  <tbody>\n    <tr>\n      <th>0</th>\n      <td>M3A</td>\n      <td>North York</td>\n      <td>Parkwoods</td>\n    </tr>\n    <tr>\n      <th>1</th>\n      <td>M4A</td>\n      <td>North York</td>\n      <td>Victoria Village</td>\n    </tr>\n    <tr>\n      <th>2</th>\n      <td>M5A</td>\n      <td>Downtown Toronto</td>\n      <td>Regent Park, Harbourfront</td>\n    </tr>\n    <tr>\n      <th>3</th>\n      <td>M6A</td>\n      <td>North York</td>\n      <td>Lawrence Manor, Lawrence Heights</td>\n    </tr>\n    <tr>\n      <th>4</th>\n      <td>M7A</td>\n      <td>Downtown Toronto</td>\n      <td>Queen's Park, Ontario Provincial Government</td>\n    </tr>\n  </tbody>\n</table>\n</div>",
                        "text/plain": "  Postal Code           Borough                                 Neighborhood\n0         M3A        North York                                    Parkwoods\n1         M4A        North York                             Victoria Village\n2         M5A  Downtown Toronto                    Regent Park, Harbourfront\n3         M6A        North York             Lawrence Manor, Lawrence Heights\n4         M7A  Downtown Toronto  Queen's Park, Ontario Provincial Government"
                    },
                    "execution_count": 8,
                    "metadata": {},
                    "output_type": "execute_result"
                }
            ],
            "source": "## (a) Take the column delimited results and convert to a data frame\nWiki_postal_df = pd.DataFrame(data=Wiki_output_rows)    \n\n## (b) Use the column names from the 'th' data\nWiki_postal_df.columns=Column_names                     \n\n## (c) Display the data head\nWiki_postal_df.head()\n\n"
        },
        {
            "cell_type": "markdown",
            "metadata": {},
            "source": "### Step 7 - Save the file for Part 2"
        },
        {
            "cell_type": "code",
            "execution_count": null,
            "metadata": {},
            "outputs": [],
            "source": "Wiki_postal_df.to_csv(r'C:\\Users\\MikeNugent78\\Desktop\\TorontoPostalCodes.csv')"
        },
        {
            "cell_type": "markdown",
            "metadata": {},
            "source": "### Step 8 - Display the shape"
        },
        {
            "cell_type": "code",
            "execution_count": null,
            "metadata": {},
            "outputs": [],
            "source": "Wiki_postal_df.shape"
        }
    ],
    "metadata": {
        "kernelspec": {
            "display_name": "Python 3.6",
            "language": "python",
            "name": "python3"
        },
        "language_info": {
            "codemirror_mode": {
                "name": "ipython",
                "version": 3
            },
            "file_extension": ".py",
            "mimetype": "text/x-python",
            "name": "python",
            "nbconvert_exporter": "python",
            "pygments_lexer": "ipython3",
            "version": "3.6.9"
        }
    },
    "nbformat": 4,
    "nbformat_minor": 1
}